{
 "cells": [
  {
   "cell_type": "code",
   "execution_count": 5,
   "id": "64562554",
   "metadata": {},
   "outputs": [],
   "source": [
    "import joblib\n",
    "import os\n",
    "from logistic_module import create_logistic_model\n",
    "from whereWatching_module import set_AtanMean, get_AtanMeans"
   ]
  },
  {
   "cell_type": "code",
   "execution_count": 9,
   "id": "4abe73db",
   "metadata": {},
   "outputs": [],
   "source": [
    "import os\n",
    "root_dir = './'\n",
    "files = os.listdir(root_dir)\n",
    "if 'pkl' not in files:\n",
    "    os.makedirs(root_dir+\"/pkl\")\n",
    "    \n",
    "create_logistic_model()\n"
   ]
  },
  {
   "cell_type": "code",
   "execution_count": 2,
   "id": "b2969316",
   "metadata": {
    "scrolled": true
   },
   "outputs": [],
   "source": [
    "set_AtanMean()"
   ]
  },
  {
   "cell_type": "code",
   "execution_count": 6,
   "id": "815d4d60",
   "metadata": {},
   "outputs": [
    {
     "data": {
      "text/plain": [
       "('72.88547401067173\\n', '114.7203072116511')"
      ]
     },
     "execution_count": 6,
     "metadata": {},
     "output_type": "execute_result"
    }
   ],
   "source": [
    "get_AtanMeans()"
   ]
  },
  {
   "cell_type": "code",
   "execution_count": null,
   "id": "e31299b2",
   "metadata": {},
   "outputs": [],
   "source": []
  }
 ],
 "metadata": {
  "kernelspec": {
   "display_name": "Python 3 (ipykernel)",
   "language": "python",
   "name": "python3"
  },
  "language_info": {
   "codemirror_mode": {
    "name": "ipython",
    "version": 3
   },
   "file_extension": ".py",
   "mimetype": "text/x-python",
   "name": "python",
   "nbconvert_exporter": "python",
   "pygments_lexer": "ipython3",
   "version": "3.9.7"
  }
 },
 "nbformat": 4,
 "nbformat_minor": 5
}
